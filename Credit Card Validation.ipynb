{
 "cells": [
  {
   "cell_type": "markdown",
   "metadata": {},
   "source": [
    "### Credit Card Validation or Luhn Algorithm"
   ]
  },
  {
   "cell_type": "code",
   "execution_count": 34,
   "metadata": {},
   "outputs": [],
   "source": [
    "def cc_check(num):\n",
    "    # take number input, convert to a string and then split into a list\n",
    "    cc_list = [int(d) for d in str(num)]\n",
    "    #print(cc_list)\n",
    "    check_digit = cc_list.pop()\n",
    "    print(check_digit)\n",
    "    # reverse the list for iteration\n",
    "    rcc_list = cc_list[::-1]\n",
    "    print(rcc_list)\n",
    "    new_list = []\n",
    "    # iterate over list: From the rightmost digit and moving left, double the value of every second digit.\n",
    "    # if the result is greater than 9, take off 9 (e.g. 16 - 9 = 7)\n",
    "    cnt = 1\n",
    "    every_2nd_digit = 0\n",
    "    total = 0\n",
    "    for d in rcc_list:\n",
    "        if cnt % 2 != 0:\n",
    "            x = d*2\n",
    "            if x > 9:\n",
    "                x = x - 9\n",
    "            new_list.append(x)\n",
    "        else:\n",
    "            new_list.append(d)\n",
    "        cnt += 1\n",
    "            \n",
    "            \n",
    "    # Finally, total % 10, if equal to 0 the number is valid\n",
    "    total = sum(new_list) + check_digit\n",
    "    print(new_list)\n",
    "    print(total)\n",
    "    if total % 10 == 0:\n",
    "        return True\n",
    "    else:\n",
    "        return False"
   ]
  },
  {
   "cell_type": "code",
   "execution_count": 35,
   "metadata": {},
   "outputs": [
    {
     "name": "stdout",
     "output_type": "stream",
     "text": [
      "7\n",
      "[7, 8, 8, 4, 2, 3, 4, 3, 5, 0, 4, 2, 2, 2, 2]\n",
      "[5, 8, 7, 4, 4, 3, 8, 3, 1, 0, 8, 2, 4, 2, 4]\n",
      "70\n"
     ]
    },
    {
     "data": {
      "text/plain": [
       "True"
      ]
     },
     "execution_count": 35,
     "metadata": {},
     "output_type": "execute_result"
    }
   ],
   "source": [
    "cc_check(2222405343248877)"
   ]
  },
  {
   "cell_type": "code",
   "execution_count": 36,
   "metadata": {},
   "outputs": [
    {
     "name": "stdout",
     "output_type": "stream",
     "text": [
      "1\n",
      "[8, 8, 1, 8, 8, 8, 8, 8, 8, 8, 8, 2, 1, 0, 4]\n",
      "[7, 8, 2, 8, 7, 8, 7, 8, 7, 8, 7, 2, 2, 0, 8]\n",
      "90\n"
     ]
    },
    {
     "data": {
      "text/plain": [
       "True"
      ]
     },
     "execution_count": 36,
     "metadata": {},
     "output_type": "execute_result"
    }
   ],
   "source": [
    "cc_check(4012888888881881)"
   ]
  },
  {
   "cell_type": "code",
   "execution_count": 37,
   "metadata": {},
   "outputs": [
    {
     "name": "stdout",
     "output_type": "stream",
     "text": [
      "1\n",
      "[3, 4, 8, 9, 3, 5, 3, 6, 9, 4, 4, 1, 7, 3]\n",
      "[6, 4, 7, 9, 6, 5, 6, 6, 9, 4, 8, 1, 5, 3]\n",
      "80\n"
     ]
    },
    {
     "data": {
      "text/plain": [
       "True"
      ]
     },
     "execution_count": 37,
     "metadata": {},
     "output_type": "execute_result"
    }
   ],
   "source": [
    "cc_check(371449635398431)"
   ]
  },
  {
   "cell_type": "code",
   "execution_count": null,
   "metadata": {},
   "outputs": [],
   "source": []
  }
 ],
 "metadata": {
  "kernelspec": {
   "display_name": "Python 3",
   "language": "python",
   "name": "python3"
  },
  "language_info": {
   "codemirror_mode": {
    "name": "ipython",
    "version": 3
   },
   "file_extension": ".py",
   "mimetype": "text/x-python",
   "name": "python",
   "nbconvert_exporter": "python",
   "pygments_lexer": "ipython3",
   "version": "3.7.3"
  }
 },
 "nbformat": 4,
 "nbformat_minor": 2
}
