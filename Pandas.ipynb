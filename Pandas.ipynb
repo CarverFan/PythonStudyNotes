{
 "cells": [
  {
   "cell_type": "markdown",
   "metadata": {},
   "source": [
    "##### Introducing Pandas\n",
    "Gathering data about US cities from here:\n",
    "    https://en.wikipedia.org/wiki/List_of_United_States_cities_by_population"
   ]
  },
  {
   "cell_type": "code",
   "execution_count": 1,
   "metadata": {},
   "outputs": [],
   "source": [
    "import pandas as pd"
   ]
  },
  {
   "cell_type": "code",
   "execution_count": 2,
   "metadata": {},
   "outputs": [],
   "source": [
    "url = 'https://en.wikipedia.org/wiki/List_of_United_States_cities_by_population'\n",
    "tables = pd.read_html(url)"
   ]
  },
  {
   "cell_type": "code",
   "execution_count": 3,
   "metadata": {},
   "outputs": [
    {
     "data": {
      "text/html": [
       "<div>\n",
       "<style scoped>\n",
       "    .dataframe tbody tr th:only-of-type {\n",
       "        vertical-align: middle;\n",
       "    }\n",
       "\n",
       "    .dataframe tbody tr th {\n",
       "        vertical-align: top;\n",
       "    }\n",
       "\n",
       "    .dataframe thead th {\n",
       "        text-align: right;\n",
       "    }\n",
       "</style>\n",
       "<table border=\"1\" class=\"dataframe\">\n",
       "  <thead>\n",
       "    <tr style=\"text-align: right;\">\n",
       "      <th></th>\n",
       "      <th>0</th>\n",
       "    </tr>\n",
       "  </thead>\n",
       "  <tbody>\n",
       "    <tr>\n",
       "      <th>0</th>\n",
       "      <td>Map all coordinates using: OpenStreetMap</td>\n",
       "    </tr>\n",
       "    <tr>\n",
       "      <th>1</th>\n",
       "      <td>Download coordinates as: KML · GPX</td>\n",
       "    </tr>\n",
       "  </tbody>\n",
       "</table>\n",
       "</div>"
      ],
      "text/plain": [
       "                                          0\n",
       "0  Map all coordinates using: OpenStreetMap\n",
       "1        Download coordinates as: KML · GPX"
      ]
     },
     "execution_count": 3,
     "metadata": {},
     "output_type": "execute_result"
    }
   ],
   "source": [
    "# the first table, not the one we want\n",
    "tables[0]"
   ]
  },
  {
   "cell_type": "code",
   "execution_count": 4,
   "metadata": {},
   "outputs": [
    {
     "data": {
      "text/html": [
       "<div>\n",
       "<style scoped>\n",
       "    .dataframe tbody tr th:only-of-type {\n",
       "        vertical-align: middle;\n",
       "    }\n",
       "\n",
       "    .dataframe tbody tr th {\n",
       "        vertical-align: top;\n",
       "    }\n",
       "\n",
       "    .dataframe thead th {\n",
       "        text-align: right;\n",
       "    }\n",
       "</style>\n",
       "<table border=\"1\" class=\"dataframe\">\n",
       "  <thead>\n",
       "    <tr style=\"text-align: right;\">\n",
       "      <th></th>\n",
       "      <th>2018rank</th>\n",
       "      <th>City</th>\n",
       "      <th>State[c]</th>\n",
       "      <th>2018estimate</th>\n",
       "      <th>2010Census</th>\n",
       "      <th>Change</th>\n",
       "      <th>2016 land area</th>\n",
       "      <th>2016 land area.1</th>\n",
       "      <th>2016 population density</th>\n",
       "      <th>2016 population density.1</th>\n",
       "      <th>Location</th>\n",
       "    </tr>\n",
       "  </thead>\n",
       "  <tbody>\n",
       "    <tr>\n",
       "      <th>0</th>\n",
       "      <td>1</td>\n",
       "      <td>New York[d]</td>\n",
       "      <td>New York</td>\n",
       "      <td>8398748</td>\n",
       "      <td>8175133</td>\n",
       "      <td>+2.74%</td>\n",
       "      <td>301.5 sq mi</td>\n",
       "      <td>780.9 km2</td>\n",
       "      <td>28,317/sq mi</td>\n",
       "      <td>10,933/km2</td>\n",
       "      <td>40°39′49″N 73°56′19″W﻿ / ﻿40.6635°N 73.9387°W</td>\n",
       "    </tr>\n",
       "    <tr>\n",
       "      <th>1</th>\n",
       "      <td>2</td>\n",
       "      <td>Los Angeles</td>\n",
       "      <td>California</td>\n",
       "      <td>3990456</td>\n",
       "      <td>3792621</td>\n",
       "      <td>+5.22%</td>\n",
       "      <td>468.7 sq mi</td>\n",
       "      <td>1,213.9 km2</td>\n",
       "      <td>8,484/sq mi</td>\n",
       "      <td>3,276/km2</td>\n",
       "      <td>34°01′10″N 118°24′39″W﻿ / ﻿34.0194°N 118.4108°W</td>\n",
       "    </tr>\n",
       "  </tbody>\n",
       "</table>\n",
       "</div>"
      ],
      "text/plain": [
       "   2018rank         City    State[c]  2018estimate  2010Census  Change  \\\n",
       "0         1  New York[d]    New York       8398748     8175133  +2.74%   \n",
       "1         2  Los Angeles  California       3990456     3792621  +5.22%   \n",
       "\n",
       "  2016 land area 2016 land area.1 2016 population density  \\\n",
       "0    301.5 sq mi        780.9 km2            28,317/sq mi   \n",
       "1    468.7 sq mi      1,213.9 km2             8,484/sq mi   \n",
       "\n",
       "  2016 population density.1                                         Location  \n",
       "0                10,933/km2    40°39′49″N 73°56′19″W﻿ / ﻿40.6635°N 73.9387°W  \n",
       "1                 3,276/km2  34°01′10″N 118°24′39″W﻿ / ﻿34.0194°N 118.4108°W  "
      ]
     },
     "execution_count": 4,
     "metadata": {},
     "output_type": "execute_result"
    }
   ],
   "source": [
    "# table 4 is the one we want\n",
    "tables[4][0:2]"
   ]
  },
  {
   "cell_type": "code",
   "execution_count": 5,
   "metadata": {},
   "outputs": [
    {
     "data": {
      "text/html": [
       "<div>\n",
       "<style scoped>\n",
       "    .dataframe tbody tr th:only-of-type {\n",
       "        vertical-align: middle;\n",
       "    }\n",
       "\n",
       "    .dataframe tbody tr th {\n",
       "        vertical-align: top;\n",
       "    }\n",
       "\n",
       "    .dataframe thead th {\n",
       "        text-align: right;\n",
       "    }\n",
       "</style>\n",
       "<table border=\"1\" class=\"dataframe\">\n",
       "  <thead>\n",
       "    <tr style=\"text-align: right;\">\n",
       "      <th></th>\n",
       "      <th>2018rank</th>\n",
       "      <th>City</th>\n",
       "      <th>State[c]</th>\n",
       "      <th>2018estimate</th>\n",
       "      <th>2010Census</th>\n",
       "      <th>Change</th>\n",
       "      <th>2016 land area</th>\n",
       "      <th>2016 land area.1</th>\n",
       "      <th>2016 population density</th>\n",
       "      <th>2016 population density.1</th>\n",
       "      <th>Location</th>\n",
       "    </tr>\n",
       "  </thead>\n",
       "  <tbody>\n",
       "    <tr>\n",
       "      <th>0</th>\n",
       "      <td>1</td>\n",
       "      <td>New York[d]</td>\n",
       "      <td>New York</td>\n",
       "      <td>8398748</td>\n",
       "      <td>8175133</td>\n",
       "      <td>+2.74%</td>\n",
       "      <td>301.5 sq mi</td>\n",
       "      <td>780.9 km2</td>\n",
       "      <td>28,317/sq mi</td>\n",
       "      <td>10,933/km2</td>\n",
       "      <td>40°39′49″N 73°56′19″W﻿ / ﻿40.6635°N 73.9387°W</td>\n",
       "    </tr>\n",
       "    <tr>\n",
       "      <th>1</th>\n",
       "      <td>2</td>\n",
       "      <td>Los Angeles</td>\n",
       "      <td>California</td>\n",
       "      <td>3990456</td>\n",
       "      <td>3792621</td>\n",
       "      <td>+5.22%</td>\n",
       "      <td>468.7 sq mi</td>\n",
       "      <td>1,213.9 km2</td>\n",
       "      <td>8,484/sq mi</td>\n",
       "      <td>3,276/km2</td>\n",
       "      <td>34°01′10″N 118°24′39″W﻿ / ﻿34.0194°N 118.4108°W</td>\n",
       "    </tr>\n",
       "  </tbody>\n",
       "</table>\n",
       "</div>"
      ],
      "text/plain": [
       "   2018rank         City    State[c]  2018estimate  2010Census  Change  \\\n",
       "0         1  New York[d]    New York       8398748     8175133  +2.74%   \n",
       "1         2  Los Angeles  California       3990456     3792621  +5.22%   \n",
       "\n",
       "  2016 land area 2016 land area.1 2016 population density  \\\n",
       "0    301.5 sq mi        780.9 km2            28,317/sq mi   \n",
       "1    468.7 sq mi      1,213.9 km2             8,484/sq mi   \n",
       "\n",
       "  2016 population density.1                                         Location  \n",
       "0                10,933/km2    40°39′49″N 73°56′19″W﻿ / ﻿40.6635°N 73.9387°W  \n",
       "1                 3,276/km2  34°01′10″N 118°24′39″W﻿ / ﻿34.0194°N 118.4108°W  "
      ]
     },
     "execution_count": 5,
     "metadata": {},
     "output_type": "execute_result"
    }
   ],
   "source": [
    "# Lets store this table in a variable called cities_table\n",
    "cities_table = tables[4]\n",
    "# This is now stored as a dataframe\n",
    "cities_table[:2]"
   ]
  },
  {
   "cell_type": "code",
   "execution_count": 6,
   "metadata": {},
   "outputs": [
    {
     "data": {
      "text/plain": [
       "[{'2018rank': 1,\n",
       "  'City': 'New York[d]',\n",
       "  'State[c]': 'New York',\n",
       "  '2018estimate': 8398748,\n",
       "  '2010Census': 8175133,\n",
       "  'Change': '+2.74%',\n",
       "  '2016 land area': '301.5\\xa0sq\\xa0mi',\n",
       "  '2016 land area.1': '780.9\\xa0km2',\n",
       "  '2016 population density': '28,317/sq\\xa0mi',\n",
       "  '2016 population density.1': '10,933/km2',\n",
       "  'Location': '40°39′49″N 73°56′19″W\\ufeff / \\ufeff40.6635°N 73.9387°W'},\n",
       " {'2018rank': 2,\n",
       "  'City': 'Los Angeles',\n",
       "  'State[c]': 'California',\n",
       "  '2018estimate': 3990456,\n",
       "  '2010Census': 3792621,\n",
       "  'Change': '+5.22%',\n",
       "  '2016 land area': '468.7\\xa0sq\\xa0mi',\n",
       "  '2016 land area.1': '1,213.9\\xa0km2',\n",
       "  '2016 population density': '8,484/sq\\xa0mi',\n",
       "  '2016 population density.1': '3,276/km2',\n",
       "  'Location': '34°01′10″N 118°24′39″W\\ufeff / \\ufeff34.0194°N 118.4108°W'}]"
      ]
     },
     "execution_count": 6,
     "metadata": {},
     "output_type": "execute_result"
    }
   ],
   "source": [
    "# we can convert this dataframe to a list of dictionaries\n",
    "cities = cities_table.to_dict('records')\n",
    "cities[0:2]"
   ]
  },
  {
   "cell_type": "code",
   "execution_count": 9,
   "metadata": {},
   "outputs": [
    {
     "data": {
      "application/vnd.plotly.v1+json": {
       "config": {
        "plotlyServerURL": "https://plot.ly"
       },
       "data": [
        {
         "hovertext": [
          "New York[d]",
          "Los Angeles",
          "Chicago",
          "Houston[3]",
          "Phoenix",
          "Philadelphia[e]",
          "San Antonio",
          "San Diego",
          "Dallas",
          "San Jose",
          "Austin",
          "Jacksonville[f]",
          "Fort Worth",
          "Columbus",
          "San Francisco[g]",
          "Charlotte",
          "Indianapolis[h]",
          "Seattle",
          "Denver[i]",
          "Washington[j]",
          "Boston",
          "El Paso",
          "Detroit",
          "Nashville[k]",
          "Portland",
          "Memphis",
          "Oklahoma City",
          "Las Vegas",
          "Louisville[l]",
          "Baltimore[m]",
          "Milwaukee",
          "Albuquerque",
          "Tucson",
          "Fresno",
          "Mesa",
          "Sacramento",
          "Atlanta",
          "Kansas City",
          "Colorado Springs",
          "Miami",
          "Raleigh",
          "Omaha",
          "Long Beach",
          "Virginia Beach[m]",
          "Oakland",
          "Minneapolis",
          "Tulsa",
          "Arlington",
          "Tampa",
          "New Orleans[n]",
          "Wichita",
          "Cleveland",
          "Bakersfield",
          "Aurora",
          "Anaheim",
          "Honolulu[b]",
          "Santa Ana",
          "Riverside",
          "Corpus Christi",
          "Lexington[o]",
          "Stockton",
          "Henderson",
          "Saint Paul",
          "St. Louis[m]",
          "Cincinnati",
          "Pittsburgh",
          "Greensboro",
          "Anchorage[p]",
          "Plano",
          "Lincoln",
          "Orlando",
          "Irvine",
          "Newark",
          "Toledo",
          "Durham",
          "Chula Vista",
          "Fort Wayne",
          "Jersey City",
          "St. Petersburg",
          "Laredo",
          "Madison",
          "Chandler",
          "Buffalo",
          "Lubbock",
          "Scottsdale",
          "Reno",
          "Glendale",
          "Gilbert[q]",
          "Winston–Salem",
          "North Las Vegas",
          "Norfolk[m]",
          "Chesapeake[m]",
          "Garland",
          "Irving",
          "Hialeah",
          "Fremont",
          "Boise[r]",
          "Richmond[m]",
          "Baton Rouge[s]",
          "Spokane",
          "Des Moines",
          "Tacoma",
          "San Bernardino",
          "Modesto",
          "Fontana",
          "Santa Clarita",
          "Birmingham",
          "Oxnard",
          "Fayetteville",
          "Moreno Valley",
          "Rochester",
          "Glendale",
          "Huntington Beach",
          "Salt Lake City",
          "Grand Rapids",
          "Amarillo",
          "Yonkers",
          "Aurora",
          "Montgomery",
          "Akron",
          "Little Rock",
          "Huntsville",
          "Augusta[t]",
          "Port St. Lucie",
          "Grand Prairie",
          "Columbus[u]",
          "Tallahassee",
          "Overland Park",
          "Tempe",
          "McKinney",
          "Mobile",
          "Cape Coral",
          "Shreveport",
          "Frisco",
          "Knoxville",
          "Worcester",
          "Brownsville",
          "Vancouver",
          "Fort Lauderdale",
          "Sioux Falls",
          "Ontario",
          "Chattanooga",
          "Providence",
          "Newport News[m]",
          "Rancho Cucamonga",
          "Santa Rosa",
          "Oceanside",
          "Salem",
          "Elk Grove",
          "Garden Grove",
          "Pembroke Pines",
          "Peoria",
          "Eugene",
          "Corona",
          "Cary[v]",
          "Springfield",
          "Fort Collins",
          "Jackson",
          "Alexandria[m]",
          "Hayward",
          "Lancaster",
          "Lakewood",
          "Clarksville",
          "Palmdale",
          "Salinas",
          "Springfield",
          "Hollywood",
          "Pasadena",
          "Sunnyvale",
          "Macon[w]",
          "Kansas City[x]",
          "Pomona",
          "Escondido",
          "Killeen",
          "Naperville",
          "Joliet",
          "Bellevue",
          "Rockford",
          "Savannah",
          "Paterson",
          "Torrance",
          "Bridgeport",
          "McAllen",
          "Mesquite",
          "Syracuse",
          "Midland",
          "Pasadena",
          "Murfreesboro",
          "Miramar",
          "Dayton",
          "Fullerton",
          "Olathe",
          "Orange",
          "Thornton",
          "Roseville",
          "Denton",
          "Waco",
          "Surprise",
          "Carrollton",
          "West Valley City",
          "Charleston",
          "Warren",
          "Hampton[m]",
          "Gainesville",
          "Visalia",
          "Coral Springs",
          "Columbia",
          "Cedar Rapids",
          "Sterling Heights",
          "New Haven",
          "Stamford",
          "Concord",
          "Kent",
          "Santa Clara",
          "Elizabeth",
          "Round Rock",
          "Thousand Oaks",
          "Lafayette[y]",
          "Athens[z]",
          "Topeka",
          "Simi Valley",
          "Fargo",
          "Norman",
          "Columbia",
          "Abilene",
          "Wilmington",
          "Hartford",
          "Victorville",
          "Pearland",
          "Vallejo",
          "Ann Arbor",
          "Berkeley",
          "Allentown",
          "Richardson",
          "Odessa",
          "Arvada",
          "Cambridge",
          "Sugar Land",
          "Beaumont",
          "Lansing",
          "Evansville",
          "Rochester",
          "Independence",
          "Fairfield",
          "Provo",
          "Clearwater",
          "College Station",
          "West Jordan",
          "Carlsbad",
          "El Monte",
          "Murrieta",
          "Temecula",
          "Springfield",
          "Palm Bay",
          "Costa Mesa",
          "Westminster",
          "North Charleston",
          "Miami Gardens",
          "Manchester",
          "High Point",
          "Downey",
          "Clovis",
          "Pompano Beach",
          "Pueblo",
          "Elgin",
          "Lowell",
          "Antioch",
          "West Palm Beach",
          "Peoria",
          "Everett",
          "Ventura[aa]",
          "Centennial",
          "Lakeland",
          "Gresham",
          "Richmond",
          "Billings",
          "Inglewood",
          "Broken Arrow",
          "Sandy Springs",
          "Jurupa Valley",
          "Hillsboro",
          "Waterbury",
          "Santa Maria",
          "Boulder",
          "Greeley",
          "Daly City",
          "Meridian",
          "Lewisville",
          "Davie[ac]",
          "West Covina",
          "League City",
          "Tyler",
          "Norwalk",
          "San Mateo",
          "Green Bay",
          "Wichita Falls",
          "Sparks",
          "Lakewood[ad]",
          "Burbank",
          "Rialto",
          "Allen",
          "El Cajon",
          "Las Cruces",
          "Renton",
          "Davenport",
          "South Bend",
          "Vista",
          "Tuscaloosa",
          "Clinton[ae]",
          "Edison[ad]",
          "Woodbridge[ad]",
          "San Angelo",
          "Kenosha",
          "Vacaville"
         ],
         "mode": "markers",
         "type": "scatter",
         "y": [
          8398748,
          3990456,
          2705994,
          2325502,
          1660272,
          1584138,
          1532233,
          1425976,
          1345047,
          1030119,
          964254,
          903889,
          895008,
          892533,
          883305,
          872498,
          867125,
          744955,
          716492,
          702455,
          694583,
          682669,
          672662,
          669053,
          653115,
          650618,
          649021,
          644644,
          620118,
          602495,
          592025,
          560218,
          545975,
          530093,
          508958,
          508529,
          498044,
          491918,
          472688,
          470914,
          469298,
          468262,
          467354,
          450189,
          429082,
          425403,
          400669,
          398112,
          392890,
          391006,
          389255,
          383793,
          383579,
          374114,
          352005,
          347397,
          332725,
          330063,
          326554,
          323780,
          311178,
          310390,
          307695,
          302838,
          302605,
          301048,
          294722,
          291538,
          288061,
          287401,
          285713,
          282572,
          282090,
          274975,
          274291,
          271651,
          267633,
          265549,
          265098,
          261639,
          258054,
          257165,
          256304,
          255885,
          255310,
          250998,
          250702,
          248279,
          246328,
          245949,
          244076,
          242634,
          242507,
          242242,
          238942,
          237807,
          228790,
          228783,
          221599,
          219190,
          216853,
          216279,
          215941,
          215030,
          213739,
          210089,
          209880,
          209877,
          209468,
          209050,
          206284,
          201361,
          200641,
          200591,
          200217,
          199924,
          199663,
          199602,
          198218,
          198006,
          197881,
          197318,
          196939,
          195248,
          194614,
          194160,
          193551,
          192536,
          192364,
          191645,
          189572,
          189343,
          188987,
          188170,
          187500,
          185877,
          183392,
          183012,
          182595,
          181883,
          181107,
          180557,
          179335,
          178626,
          177751,
          177586,
          176080,
          173442,
          172886,
          172646,
          172374,
          172259,
          171245,
          168819,
          168160,
          168122,
          167830,
          164422,
          160530,
          159620,
          159053,
          156798,
          156794,
          156667,
          156259,
          155032,
          154823,
          153219,
          153185,
          153095,
          152958,
          152361,
          152213,
          149103,
          148304,
          148099,
          147599,
          146526,
          145862,
          145627,
          145182,
          144900,
          143433,
          142816,
          142749,
          142344,
          141371,
          141344,
          140823,
          140640,
          139640,
          139605,
          139484,
          139436,
          139117,
          138541,
          138183,
          138161,
          136879,
          136401,
          136208,
          134587,
          134313,
          133857,
          133800,
          133507,
          133451,
          133174,
          132964,
          130418,
          129775,
          129688,
          129618,
          129488,
          128885,
          128739,
          127690,
          126143,
          125964,
          125904,
          125851,
          124844,
          123471,
          123180,
          122999,
          122607,
          122587,
          122312,
          122149,
          121913,
          121890,
          121643,
          121433,
          120981,
          120568,
          120492,
          118977,
          118600,
          118428,
          118427,
          117963,
          116961,
          116925,
          116884,
          116702,
          116478,
          116218,
          116046,
          115877,
          115586,
          114985,
          114742,
          114694,
          114194,
          113615,
          113479,
          113237,
          113069,
          112525,
          112316,
          112269,
          112022,
          111954,
          111750,
          111683,
          111670,
          111535,
          111398,
          111388,
          111262,
          111128,
          110831,
          110516,
          110158,
          110146,
          109550,
          109419,
          109171,
          108797,
          108393,
          108389,
          108093,
          107408,
          107353,
          107348,
          107008,
          106804,
          106586,
          106558,
          106311,
          106244,
          105729,
          105120,
          105025,
          104879,
          104576,
          104246,
          104157,
          103695,
          103440,
          103383,
          103241,
          102926,
          102153,
          102085,
          101860,
          101224,
          101113,
          100800,
          100693,
          100450,
          100215,
          100164,
          100154
         ]
        }
       ],
       "layout": {
        "template": {
         "data": {
          "bar": [
           {
            "error_x": {
             "color": "#2a3f5f"
            },
            "error_y": {
             "color": "#2a3f5f"
            },
            "marker": {
             "line": {
              "color": "#E5ECF6",
              "width": 0.5
             }
            },
            "type": "bar"
           }
          ],
          "barpolar": [
           {
            "marker": {
             "line": {
              "color": "#E5ECF6",
              "width": 0.5
             }
            },
            "type": "barpolar"
           }
          ],
          "carpet": [
           {
            "aaxis": {
             "endlinecolor": "#2a3f5f",
             "gridcolor": "white",
             "linecolor": "white",
             "minorgridcolor": "white",
             "startlinecolor": "#2a3f5f"
            },
            "baxis": {
             "endlinecolor": "#2a3f5f",
             "gridcolor": "white",
             "linecolor": "white",
             "minorgridcolor": "white",
             "startlinecolor": "#2a3f5f"
            },
            "type": "carpet"
           }
          ],
          "choropleth": [
           {
            "colorbar": {
             "outlinewidth": 0,
             "ticks": ""
            },
            "type": "choropleth"
           }
          ],
          "contour": [
           {
            "colorbar": {
             "outlinewidth": 0,
             "ticks": ""
            },
            "colorscale": [
             [
              0,
              "#0d0887"
             ],
             [
              0.1111111111111111,
              "#46039f"
             ],
             [
              0.2222222222222222,
              "#7201a8"
             ],
             [
              0.3333333333333333,
              "#9c179e"
             ],
             [
              0.4444444444444444,
              "#bd3786"
             ],
             [
              0.5555555555555556,
              "#d8576b"
             ],
             [
              0.6666666666666666,
              "#ed7953"
             ],
             [
              0.7777777777777778,
              "#fb9f3a"
             ],
             [
              0.8888888888888888,
              "#fdca26"
             ],
             [
              1,
              "#f0f921"
             ]
            ],
            "type": "contour"
           }
          ],
          "contourcarpet": [
           {
            "colorbar": {
             "outlinewidth": 0,
             "ticks": ""
            },
            "type": "contourcarpet"
           }
          ],
          "heatmap": [
           {
            "colorbar": {
             "outlinewidth": 0,
             "ticks": ""
            },
            "colorscale": [
             [
              0,
              "#0d0887"
             ],
             [
              0.1111111111111111,
              "#46039f"
             ],
             [
              0.2222222222222222,
              "#7201a8"
             ],
             [
              0.3333333333333333,
              "#9c179e"
             ],
             [
              0.4444444444444444,
              "#bd3786"
             ],
             [
              0.5555555555555556,
              "#d8576b"
             ],
             [
              0.6666666666666666,
              "#ed7953"
             ],
             [
              0.7777777777777778,
              "#fb9f3a"
             ],
             [
              0.8888888888888888,
              "#fdca26"
             ],
             [
              1,
              "#f0f921"
             ]
            ],
            "type": "heatmap"
           }
          ],
          "heatmapgl": [
           {
            "colorbar": {
             "outlinewidth": 0,
             "ticks": ""
            },
            "colorscale": [
             [
              0,
              "#0d0887"
             ],
             [
              0.1111111111111111,
              "#46039f"
             ],
             [
              0.2222222222222222,
              "#7201a8"
             ],
             [
              0.3333333333333333,
              "#9c179e"
             ],
             [
              0.4444444444444444,
              "#bd3786"
             ],
             [
              0.5555555555555556,
              "#d8576b"
             ],
             [
              0.6666666666666666,
              "#ed7953"
             ],
             [
              0.7777777777777778,
              "#fb9f3a"
             ],
             [
              0.8888888888888888,
              "#fdca26"
             ],
             [
              1,
              "#f0f921"
             ]
            ],
            "type": "heatmapgl"
           }
          ],
          "histogram": [
           {
            "marker": {
             "colorbar": {
              "outlinewidth": 0,
              "ticks": ""
             }
            },
            "type": "histogram"
           }
          ],
          "histogram2d": [
           {
            "colorbar": {
             "outlinewidth": 0,
             "ticks": ""
            },
            "colorscale": [
             [
              0,
              "#0d0887"
             ],
             [
              0.1111111111111111,
              "#46039f"
             ],
             [
              0.2222222222222222,
              "#7201a8"
             ],
             [
              0.3333333333333333,
              "#9c179e"
             ],
             [
              0.4444444444444444,
              "#bd3786"
             ],
             [
              0.5555555555555556,
              "#d8576b"
             ],
             [
              0.6666666666666666,
              "#ed7953"
             ],
             [
              0.7777777777777778,
              "#fb9f3a"
             ],
             [
              0.8888888888888888,
              "#fdca26"
             ],
             [
              1,
              "#f0f921"
             ]
            ],
            "type": "histogram2d"
           }
          ],
          "histogram2dcontour": [
           {
            "colorbar": {
             "outlinewidth": 0,
             "ticks": ""
            },
            "colorscale": [
             [
              0,
              "#0d0887"
             ],
             [
              0.1111111111111111,
              "#46039f"
             ],
             [
              0.2222222222222222,
              "#7201a8"
             ],
             [
              0.3333333333333333,
              "#9c179e"
             ],
             [
              0.4444444444444444,
              "#bd3786"
             ],
             [
              0.5555555555555556,
              "#d8576b"
             ],
             [
              0.6666666666666666,
              "#ed7953"
             ],
             [
              0.7777777777777778,
              "#fb9f3a"
             ],
             [
              0.8888888888888888,
              "#fdca26"
             ],
             [
              1,
              "#f0f921"
             ]
            ],
            "type": "histogram2dcontour"
           }
          ],
          "mesh3d": [
           {
            "colorbar": {
             "outlinewidth": 0,
             "ticks": ""
            },
            "type": "mesh3d"
           }
          ],
          "parcoords": [
           {
            "line": {
             "colorbar": {
              "outlinewidth": 0,
              "ticks": ""
             }
            },
            "type": "parcoords"
           }
          ],
          "pie": [
           {
            "automargin": true,
            "type": "pie"
           }
          ],
          "scatter": [
           {
            "marker": {
             "colorbar": {
              "outlinewidth": 0,
              "ticks": ""
             }
            },
            "type": "scatter"
           }
          ],
          "scatter3d": [
           {
            "line": {
             "colorbar": {
              "outlinewidth": 0,
              "ticks": ""
             }
            },
            "marker": {
             "colorbar": {
              "outlinewidth": 0,
              "ticks": ""
             }
            },
            "type": "scatter3d"
           }
          ],
          "scattercarpet": [
           {
            "marker": {
             "colorbar": {
              "outlinewidth": 0,
              "ticks": ""
             }
            },
            "type": "scattercarpet"
           }
          ],
          "scattergeo": [
           {
            "marker": {
             "colorbar": {
              "outlinewidth": 0,
              "ticks": ""
             }
            },
            "type": "scattergeo"
           }
          ],
          "scattergl": [
           {
            "marker": {
             "colorbar": {
              "outlinewidth": 0,
              "ticks": ""
             }
            },
            "type": "scattergl"
           }
          ],
          "scattermapbox": [
           {
            "marker": {
             "colorbar": {
              "outlinewidth": 0,
              "ticks": ""
             }
            },
            "type": "scattermapbox"
           }
          ],
          "scatterpolar": [
           {
            "marker": {
             "colorbar": {
              "outlinewidth": 0,
              "ticks": ""
             }
            },
            "type": "scatterpolar"
           }
          ],
          "scatterpolargl": [
           {
            "marker": {
             "colorbar": {
              "outlinewidth": 0,
              "ticks": ""
             }
            },
            "type": "scatterpolargl"
           }
          ],
          "scatterternary": [
           {
            "marker": {
             "colorbar": {
              "outlinewidth": 0,
              "ticks": ""
             }
            },
            "type": "scatterternary"
           }
          ],
          "surface": [
           {
            "colorbar": {
             "outlinewidth": 0,
             "ticks": ""
            },
            "colorscale": [
             [
              0,
              "#0d0887"
             ],
             [
              0.1111111111111111,
              "#46039f"
             ],
             [
              0.2222222222222222,
              "#7201a8"
             ],
             [
              0.3333333333333333,
              "#9c179e"
             ],
             [
              0.4444444444444444,
              "#bd3786"
             ],
             [
              0.5555555555555556,
              "#d8576b"
             ],
             [
              0.6666666666666666,
              "#ed7953"
             ],
             [
              0.7777777777777778,
              "#fb9f3a"
             ],
             [
              0.8888888888888888,
              "#fdca26"
             ],
             [
              1,
              "#f0f921"
             ]
            ],
            "type": "surface"
           }
          ],
          "table": [
           {
            "cells": {
             "fill": {
              "color": "#EBF0F8"
             },
             "line": {
              "color": "white"
             }
            },
            "header": {
             "fill": {
              "color": "#C8D4E3"
             },
             "line": {
              "color": "white"
             }
            },
            "type": "table"
           }
          ]
         },
         "layout": {
          "annotationdefaults": {
           "arrowcolor": "#2a3f5f",
           "arrowhead": 0,
           "arrowwidth": 1
          },
          "coloraxis": {
           "colorbar": {
            "outlinewidth": 0,
            "ticks": ""
           }
          },
          "colorscale": {
           "diverging": [
            [
             0,
             "#8e0152"
            ],
            [
             0.1,
             "#c51b7d"
            ],
            [
             0.2,
             "#de77ae"
            ],
            [
             0.3,
             "#f1b6da"
            ],
            [
             0.4,
             "#fde0ef"
            ],
            [
             0.5,
             "#f7f7f7"
            ],
            [
             0.6,
             "#e6f5d0"
            ],
            [
             0.7,
             "#b8e186"
            ],
            [
             0.8,
             "#7fbc41"
            ],
            [
             0.9,
             "#4d9221"
            ],
            [
             1,
             "#276419"
            ]
           ],
           "sequential": [
            [
             0,
             "#0d0887"
            ],
            [
             0.1111111111111111,
             "#46039f"
            ],
            [
             0.2222222222222222,
             "#7201a8"
            ],
            [
             0.3333333333333333,
             "#9c179e"
            ],
            [
             0.4444444444444444,
             "#bd3786"
            ],
            [
             0.5555555555555556,
             "#d8576b"
            ],
            [
             0.6666666666666666,
             "#ed7953"
            ],
            [
             0.7777777777777778,
             "#fb9f3a"
            ],
            [
             0.8888888888888888,
             "#fdca26"
            ],
            [
             1,
             "#f0f921"
            ]
           ],
           "sequentialminus": [
            [
             0,
             "#0d0887"
            ],
            [
             0.1111111111111111,
             "#46039f"
            ],
            [
             0.2222222222222222,
             "#7201a8"
            ],
            [
             0.3333333333333333,
             "#9c179e"
            ],
            [
             0.4444444444444444,
             "#bd3786"
            ],
            [
             0.5555555555555556,
             "#d8576b"
            ],
            [
             0.6666666666666666,
             "#ed7953"
            ],
            [
             0.7777777777777778,
             "#fb9f3a"
            ],
            [
             0.8888888888888888,
             "#fdca26"
            ],
            [
             1,
             "#f0f921"
            ]
           ]
          },
          "colorway": [
           "#636efa",
           "#EF553B",
           "#00cc96",
           "#ab63fa",
           "#FFA15A",
           "#19d3f3",
           "#FF6692",
           "#B6E880",
           "#FF97FF",
           "#FECB52"
          ],
          "font": {
           "color": "#2a3f5f"
          },
          "geo": {
           "bgcolor": "white",
           "lakecolor": "white",
           "landcolor": "#E5ECF6",
           "showlakes": true,
           "showland": true,
           "subunitcolor": "white"
          },
          "hoverlabel": {
           "align": "left"
          },
          "hovermode": "closest",
          "mapbox": {
           "style": "light"
          },
          "paper_bgcolor": "white",
          "plot_bgcolor": "#E5ECF6",
          "polar": {
           "angularaxis": {
            "gridcolor": "white",
            "linecolor": "white",
            "ticks": ""
           },
           "bgcolor": "#E5ECF6",
           "radialaxis": {
            "gridcolor": "white",
            "linecolor": "white",
            "ticks": ""
           }
          },
          "scene": {
           "xaxis": {
            "backgroundcolor": "#E5ECF6",
            "gridcolor": "white",
            "gridwidth": 2,
            "linecolor": "white",
            "showbackground": true,
            "ticks": "",
            "zerolinecolor": "white"
           },
           "yaxis": {
            "backgroundcolor": "#E5ECF6",
            "gridcolor": "white",
            "gridwidth": 2,
            "linecolor": "white",
            "showbackground": true,
            "ticks": "",
            "zerolinecolor": "white"
           },
           "zaxis": {
            "backgroundcolor": "#E5ECF6",
            "gridcolor": "white",
            "gridwidth": 2,
            "linecolor": "white",
            "showbackground": true,
            "ticks": "",
            "zerolinecolor": "white"
           }
          },
          "shapedefaults": {
           "line": {
            "color": "#2a3f5f"
           }
          },
          "ternary": {
           "aaxis": {
            "gridcolor": "white",
            "linecolor": "white",
            "ticks": ""
           },
           "baxis": {
            "gridcolor": "white",
            "linecolor": "white",
            "ticks": ""
           },
           "bgcolor": "#E5ECF6",
           "caxis": {
            "gridcolor": "white",
            "linecolor": "white",
            "ticks": ""
           }
          },
          "title": {
           "x": 0.05
          },
          "xaxis": {
           "automargin": true,
           "gridcolor": "white",
           "linecolor": "white",
           "ticks": "",
           "title": {
            "standoff": 15
           },
           "zerolinecolor": "white",
           "zerolinewidth": 2
          },
          "yaxis": {
           "automargin": true,
           "gridcolor": "white",
           "linecolor": "white",
           "ticks": "",
           "title": {
            "standoff": 15
           },
           "zerolinecolor": "white",
           "zerolinewidth": 2
          }
         }
        }
       }
      },
      "text/html": [
       "<div>\n",
       "        \n",
       "        \n",
       "            <div id=\"6087aa05-cdfd-4cef-90db-f9e7857fd1f9\" class=\"plotly-graph-div\" style=\"height:525px; width:100%;\"></div>\n",
       "            <script type=\"text/javascript\">\n",
       "                require([\"plotly\"], function(Plotly) {\n",
       "                    window.PLOTLYENV=window.PLOTLYENV || {};\n",
       "                    \n",
       "                if (document.getElementById(\"6087aa05-cdfd-4cef-90db-f9e7857fd1f9\")) {\n",
       "                    Plotly.newPlot(\n",
       "                        '6087aa05-cdfd-4cef-90db-f9e7857fd1f9',\n",
       "                        [{\"hovertext\": [\"New York[d]\", \"Los Angeles\", \"Chicago\", \"Houston[3]\", \"Phoenix\", \"Philadelphia[e]\", \"San Antonio\", \"San Diego\", \"Dallas\", \"San Jose\", \"Austin\", \"Jacksonville[f]\", \"Fort Worth\", \"Columbus\", \"San Francisco[g]\", \"Charlotte\", \"Indianapolis[h]\", \"Seattle\", \"Denver[i]\", \"Washington[j]\", \"Boston\", \"El Paso\", \"Detroit\", \"Nashville[k]\", \"Portland\", \"Memphis\", \"Oklahoma City\", \"Las Vegas\", \"Louisville[l]\", \"Baltimore[m]\", \"Milwaukee\", \"Albuquerque\", \"Tucson\", \"Fresno\", \"Mesa\", \"Sacramento\", \"Atlanta\", \"Kansas City\", \"Colorado Springs\", \"Miami\", \"Raleigh\", \"Omaha\", \"Long Beach\", \"Virginia Beach[m]\", \"Oakland\", \"Minneapolis\", \"Tulsa\", \"Arlington\", \"Tampa\", \"New Orleans[n]\", \"Wichita\", \"Cleveland\", \"Bakersfield\", \"Aurora\", \"Anaheim\", \"Honolulu[b]\", \"Santa Ana\", \"Riverside\", \"Corpus Christi\", \"Lexington[o]\", \"Stockton\", \"Henderson\", \"Saint Paul\", \"St. Louis[m]\", \"Cincinnati\", \"Pittsburgh\", \"Greensboro\", \"Anchorage[p]\", \"Plano\", \"Lincoln\", \"Orlando\", \"Irvine\", \"Newark\", \"Toledo\", \"Durham\", \"Chula Vista\", \"Fort Wayne\", \"Jersey City\", \"St. Petersburg\", \"Laredo\", \"Madison\", \"Chandler\", \"Buffalo\", \"Lubbock\", \"Scottsdale\", \"Reno\", \"Glendale\", \"Gilbert[q]\", \"Winston\\u2013Salem\", \"North Las Vegas\", \"Norfolk[m]\", \"Chesapeake[m]\", \"Garland\", \"Irving\", \"Hialeah\", \"Fremont\", \"Boise[r]\", \"Richmond[m]\", \"Baton Rouge[s]\", \"Spokane\", \"Des Moines\", \"Tacoma\", \"San Bernardino\", \"Modesto\", \"Fontana\", \"Santa Clarita\", \"Birmingham\", \"Oxnard\", \"Fayetteville\", \"Moreno Valley\", \"Rochester\", \"Glendale\", \"Huntington Beach\", \"Salt Lake City\", \"Grand Rapids\", \"Amarillo\", \"Yonkers\", \"Aurora\", \"Montgomery\", \"Akron\", \"Little Rock\", \"Huntsville\", \"Augusta[t]\", \"Port St. Lucie\", \"Grand Prairie\", \"Columbus[u]\", \"Tallahassee\", \"Overland Park\", \"Tempe\", \"McKinney\", \"Mobile\", \"Cape Coral\", \"Shreveport\", \"Frisco\", \"Knoxville\", \"Worcester\", \"Brownsville\", \"Vancouver\", \"Fort Lauderdale\", \"Sioux Falls\", \"Ontario\", \"Chattanooga\", \"Providence\", \"Newport News[m]\", \"Rancho Cucamonga\", \"Santa Rosa\", \"Oceanside\", \"Salem\", \"Elk Grove\", \"Garden Grove\", \"Pembroke Pines\", \"Peoria\", \"Eugene\", \"Corona\", \"Cary[v]\", \"Springfield\", \"Fort Collins\", \"Jackson\", \"Alexandria[m]\", \"Hayward\", \"Lancaster\", \"Lakewood\", \"Clarksville\", \"Palmdale\", \"Salinas\", \"Springfield\", \"Hollywood\", \"Pasadena\", \"Sunnyvale\", \"Macon[w]\", \"Kansas City[x]\", \"Pomona\", \"Escondido\", \"Killeen\", \"Naperville\", \"Joliet\", \"Bellevue\", \"Rockford\", \"Savannah\", \"Paterson\", \"Torrance\", \"Bridgeport\", \"McAllen\", \"Mesquite\", \"Syracuse\", \"Midland\", \"Pasadena\", \"Murfreesboro\", \"Miramar\", \"Dayton\", \"Fullerton\", \"Olathe\", \"Orange\", \"Thornton\", \"Roseville\", \"Denton\", \"Waco\", \"Surprise\", \"Carrollton\", \"West Valley City\", \"Charleston\", \"Warren\", \"Hampton[m]\", \"Gainesville\", \"Visalia\", \"Coral Springs\", \"Columbia\", \"Cedar Rapids\", \"Sterling Heights\", \"New Haven\", \"Stamford\", \"Concord\", \"Kent\", \"Santa Clara\", \"Elizabeth\", \"Round Rock\", \"Thousand Oaks\", \"Lafayette[y]\", \"Athens[z]\", \"Topeka\", \"Simi Valley\", \"Fargo\", \"Norman\", \"Columbia\", \"Abilene\", \"Wilmington\", \"Hartford\", \"Victorville\", \"Pearland\", \"Vallejo\", \"Ann Arbor\", \"Berkeley\", \"Allentown\", \"Richardson\", \"Odessa\", \"Arvada\", \"Cambridge\", \"Sugar Land\", \"Beaumont\", \"Lansing\", \"Evansville\", \"Rochester\", \"Independence\", \"Fairfield\", \"Provo\", \"Clearwater\", \"College Station\", \"West Jordan\", \"Carlsbad\", \"El Monte\", \"Murrieta\", \"Temecula\", \"Springfield\", \"Palm Bay\", \"Costa Mesa\", \"Westminster\", \"North Charleston\", \"Miami Gardens\", \"Manchester\", \"High Point\", \"Downey\", \"Clovis\", \"Pompano Beach\", \"Pueblo\", \"Elgin\", \"Lowell\", \"Antioch\", \"West Palm Beach\", \"Peoria\", \"Everett\", \"Ventura[aa]\", \"Centennial\", \"Lakeland\", \"Gresham\", \"Richmond\", \"Billings\", \"Inglewood\", \"Broken Arrow\", \"Sandy Springs\", \"Jurupa Valley\", \"Hillsboro\", \"Waterbury\", \"Santa Maria\", \"Boulder\", \"Greeley\", \"Daly City\", \"Meridian\", \"Lewisville\", \"Davie[ac]\", \"West Covina\", \"League City\", \"Tyler\", \"Norwalk\", \"San Mateo\", \"Green Bay\", \"Wichita Falls\", \"Sparks\", \"Lakewood[ad]\", \"Burbank\", \"Rialto\", \"Allen\", \"El Cajon\", \"Las Cruces\", \"Renton\", \"Davenport\", \"South Bend\", \"Vista\", \"Tuscaloosa\", \"Clinton[ae]\", \"Edison[ad]\", \"Woodbridge[ad]\", \"San Angelo\", \"Kenosha\", \"Vacaville\"], \"mode\": \"markers\", \"type\": \"scatter\", \"y\": [8398748, 3990456, 2705994, 2325502, 1660272, 1584138, 1532233, 1425976, 1345047, 1030119, 964254, 903889, 895008, 892533, 883305, 872498, 867125, 744955, 716492, 702455, 694583, 682669, 672662, 669053, 653115, 650618, 649021, 644644, 620118, 602495, 592025, 560218, 545975, 530093, 508958, 508529, 498044, 491918, 472688, 470914, 469298, 468262, 467354, 450189, 429082, 425403, 400669, 398112, 392890, 391006, 389255, 383793, 383579, 374114, 352005, 347397, 332725, 330063, 326554, 323780, 311178, 310390, 307695, 302838, 302605, 301048, 294722, 291538, 288061, 287401, 285713, 282572, 282090, 274975, 274291, 271651, 267633, 265549, 265098, 261639, 258054, 257165, 256304, 255885, 255310, 250998, 250702, 248279, 246328, 245949, 244076, 242634, 242507, 242242, 238942, 237807, 228790, 228783, 221599, 219190, 216853, 216279, 215941, 215030, 213739, 210089, 209880, 209877, 209468, 209050, 206284, 201361, 200641, 200591, 200217, 199924, 199663, 199602, 198218, 198006, 197881, 197318, 196939, 195248, 194614, 194160, 193551, 192536, 192364, 191645, 189572, 189343, 188987, 188170, 187500, 185877, 183392, 183012, 182595, 181883, 181107, 180557, 179335, 178626, 177751, 177586, 176080, 173442, 172886, 172646, 172374, 172259, 171245, 168819, 168160, 168122, 167830, 164422, 160530, 159620, 159053, 156798, 156794, 156667, 156259, 155032, 154823, 153219, 153185, 153095, 152958, 152361, 152213, 149103, 148304, 148099, 147599, 146526, 145862, 145627, 145182, 144900, 143433, 142816, 142749, 142344, 141371, 141344, 140823, 140640, 139640, 139605, 139484, 139436, 139117, 138541, 138183, 138161, 136879, 136401, 136208, 134587, 134313, 133857, 133800, 133507, 133451, 133174, 132964, 130418, 129775, 129688, 129618, 129488, 128885, 128739, 127690, 126143, 125964, 125904, 125851, 124844, 123471, 123180, 122999, 122607, 122587, 122312, 122149, 121913, 121890, 121643, 121433, 120981, 120568, 120492, 118977, 118600, 118428, 118427, 117963, 116961, 116925, 116884, 116702, 116478, 116218, 116046, 115877, 115586, 114985, 114742, 114694, 114194, 113615, 113479, 113237, 113069, 112525, 112316, 112269, 112022, 111954, 111750, 111683, 111670, 111535, 111398, 111388, 111262, 111128, 110831, 110516, 110158, 110146, 109550, 109419, 109171, 108797, 108393, 108389, 108093, 107408, 107353, 107348, 107008, 106804, 106586, 106558, 106311, 106244, 105729, 105120, 105025, 104879, 104576, 104246, 104157, 103695, 103440, 103383, 103241, 102926, 102153, 102085, 101860, 101224, 101113, 100800, 100693, 100450, 100215, 100164, 100154]}],\n",
       "                        {\"template\": {\"data\": {\"bar\": [{\"error_x\": {\"color\": \"#2a3f5f\"}, \"error_y\": {\"color\": \"#2a3f5f\"}, \"marker\": {\"line\": {\"color\": \"#E5ECF6\", \"width\": 0.5}}, \"type\": \"bar\"}], \"barpolar\": [{\"marker\": {\"line\": {\"color\": \"#E5ECF6\", \"width\": 0.5}}, \"type\": \"barpolar\"}], \"carpet\": [{\"aaxis\": {\"endlinecolor\": \"#2a3f5f\", \"gridcolor\": \"white\", \"linecolor\": \"white\", \"minorgridcolor\": \"white\", \"startlinecolor\": \"#2a3f5f\"}, \"baxis\": {\"endlinecolor\": \"#2a3f5f\", \"gridcolor\": \"white\", \"linecolor\": \"white\", \"minorgridcolor\": \"white\", \"startlinecolor\": \"#2a3f5f\"}, \"type\": \"carpet\"}], \"choropleth\": [{\"colorbar\": {\"outlinewidth\": 0, \"ticks\": \"\"}, \"type\": \"choropleth\"}], \"contour\": [{\"colorbar\": {\"outlinewidth\": 0, \"ticks\": \"\"}, \"colorscale\": [[0.0, \"#0d0887\"], [0.1111111111111111, \"#46039f\"], [0.2222222222222222, \"#7201a8\"], [0.3333333333333333, \"#9c179e\"], [0.4444444444444444, \"#bd3786\"], [0.5555555555555556, \"#d8576b\"], [0.6666666666666666, \"#ed7953\"], [0.7777777777777778, \"#fb9f3a\"], [0.8888888888888888, \"#fdca26\"], [1.0, \"#f0f921\"]], \"type\": \"contour\"}], \"contourcarpet\": [{\"colorbar\": {\"outlinewidth\": 0, \"ticks\": \"\"}, \"type\": \"contourcarpet\"}], \"heatmap\": [{\"colorbar\": {\"outlinewidth\": 0, \"ticks\": \"\"}, \"colorscale\": [[0.0, \"#0d0887\"], [0.1111111111111111, \"#46039f\"], [0.2222222222222222, \"#7201a8\"], [0.3333333333333333, \"#9c179e\"], [0.4444444444444444, \"#bd3786\"], [0.5555555555555556, \"#d8576b\"], [0.6666666666666666, \"#ed7953\"], [0.7777777777777778, \"#fb9f3a\"], [0.8888888888888888, \"#fdca26\"], [1.0, \"#f0f921\"]], \"type\": \"heatmap\"}], \"heatmapgl\": [{\"colorbar\": {\"outlinewidth\": 0, \"ticks\": \"\"}, \"colorscale\": [[0.0, \"#0d0887\"], [0.1111111111111111, \"#46039f\"], [0.2222222222222222, \"#7201a8\"], [0.3333333333333333, \"#9c179e\"], [0.4444444444444444, \"#bd3786\"], [0.5555555555555556, \"#d8576b\"], [0.6666666666666666, \"#ed7953\"], [0.7777777777777778, \"#fb9f3a\"], [0.8888888888888888, \"#fdca26\"], [1.0, \"#f0f921\"]], \"type\": \"heatmapgl\"}], \"histogram\": [{\"marker\": {\"colorbar\": {\"outlinewidth\": 0, \"ticks\": \"\"}}, \"type\": \"histogram\"}], \"histogram2d\": [{\"colorbar\": {\"outlinewidth\": 0, \"ticks\": \"\"}, \"colorscale\": [[0.0, \"#0d0887\"], [0.1111111111111111, \"#46039f\"], [0.2222222222222222, \"#7201a8\"], [0.3333333333333333, \"#9c179e\"], [0.4444444444444444, \"#bd3786\"], [0.5555555555555556, \"#d8576b\"], [0.6666666666666666, \"#ed7953\"], [0.7777777777777778, \"#fb9f3a\"], [0.8888888888888888, \"#fdca26\"], [1.0, \"#f0f921\"]], \"type\": \"histogram2d\"}], \"histogram2dcontour\": [{\"colorbar\": {\"outlinewidth\": 0, \"ticks\": \"\"}, \"colorscale\": [[0.0, \"#0d0887\"], [0.1111111111111111, \"#46039f\"], [0.2222222222222222, \"#7201a8\"], [0.3333333333333333, \"#9c179e\"], [0.4444444444444444, \"#bd3786\"], [0.5555555555555556, \"#d8576b\"], [0.6666666666666666, \"#ed7953\"], [0.7777777777777778, \"#fb9f3a\"], [0.8888888888888888, \"#fdca26\"], [1.0, \"#f0f921\"]], \"type\": \"histogram2dcontour\"}], \"mesh3d\": [{\"colorbar\": {\"outlinewidth\": 0, \"ticks\": \"\"}, \"type\": \"mesh3d\"}], \"parcoords\": [{\"line\": {\"colorbar\": {\"outlinewidth\": 0, \"ticks\": \"\"}}, \"type\": \"parcoords\"}], \"pie\": [{\"automargin\": true, \"type\": \"pie\"}], \"scatter\": [{\"marker\": {\"colorbar\": {\"outlinewidth\": 0, \"ticks\": \"\"}}, \"type\": \"scatter\"}], \"scatter3d\": [{\"line\": {\"colorbar\": {\"outlinewidth\": 0, \"ticks\": \"\"}}, \"marker\": {\"colorbar\": {\"outlinewidth\": 0, \"ticks\": \"\"}}, \"type\": \"scatter3d\"}], \"scattercarpet\": [{\"marker\": {\"colorbar\": {\"outlinewidth\": 0, \"ticks\": \"\"}}, \"type\": \"scattercarpet\"}], \"scattergeo\": [{\"marker\": {\"colorbar\": {\"outlinewidth\": 0, \"ticks\": \"\"}}, \"type\": \"scattergeo\"}], \"scattergl\": [{\"marker\": {\"colorbar\": {\"outlinewidth\": 0, \"ticks\": \"\"}}, \"type\": \"scattergl\"}], \"scattermapbox\": [{\"marker\": {\"colorbar\": {\"outlinewidth\": 0, \"ticks\": \"\"}}, \"type\": \"scattermapbox\"}], \"scatterpolar\": [{\"marker\": {\"colorbar\": {\"outlinewidth\": 0, \"ticks\": \"\"}}, \"type\": \"scatterpolar\"}], \"scatterpolargl\": [{\"marker\": {\"colorbar\": {\"outlinewidth\": 0, \"ticks\": \"\"}}, \"type\": \"scatterpolargl\"}], \"scatterternary\": [{\"marker\": {\"colorbar\": {\"outlinewidth\": 0, \"ticks\": \"\"}}, \"type\": \"scatterternary\"}], \"surface\": [{\"colorbar\": {\"outlinewidth\": 0, \"ticks\": \"\"}, \"colorscale\": [[0.0, \"#0d0887\"], [0.1111111111111111, \"#46039f\"], [0.2222222222222222, \"#7201a8\"], [0.3333333333333333, \"#9c179e\"], [0.4444444444444444, \"#bd3786\"], [0.5555555555555556, \"#d8576b\"], [0.6666666666666666, \"#ed7953\"], [0.7777777777777778, \"#fb9f3a\"], [0.8888888888888888, \"#fdca26\"], [1.0, \"#f0f921\"]], \"type\": \"surface\"}], \"table\": [{\"cells\": {\"fill\": {\"color\": \"#EBF0F8\"}, \"line\": {\"color\": \"white\"}}, \"header\": {\"fill\": {\"color\": \"#C8D4E3\"}, \"line\": {\"color\": \"white\"}}, \"type\": \"table\"}]}, \"layout\": {\"annotationdefaults\": {\"arrowcolor\": \"#2a3f5f\", \"arrowhead\": 0, \"arrowwidth\": 1}, \"coloraxis\": {\"colorbar\": {\"outlinewidth\": 0, \"ticks\": \"\"}}, \"colorscale\": {\"diverging\": [[0, \"#8e0152\"], [0.1, \"#c51b7d\"], [0.2, \"#de77ae\"], [0.3, \"#f1b6da\"], [0.4, \"#fde0ef\"], [0.5, \"#f7f7f7\"], [0.6, \"#e6f5d0\"], [0.7, \"#b8e186\"], [0.8, \"#7fbc41\"], [0.9, \"#4d9221\"], [1, \"#276419\"]], \"sequential\": [[0.0, \"#0d0887\"], [0.1111111111111111, \"#46039f\"], [0.2222222222222222, \"#7201a8\"], [0.3333333333333333, \"#9c179e\"], [0.4444444444444444, \"#bd3786\"], [0.5555555555555556, \"#d8576b\"], [0.6666666666666666, \"#ed7953\"], [0.7777777777777778, \"#fb9f3a\"], [0.8888888888888888, \"#fdca26\"], [1.0, \"#f0f921\"]], \"sequentialminus\": [[0.0, \"#0d0887\"], [0.1111111111111111, \"#46039f\"], [0.2222222222222222, \"#7201a8\"], [0.3333333333333333, \"#9c179e\"], [0.4444444444444444, \"#bd3786\"], [0.5555555555555556, \"#d8576b\"], [0.6666666666666666, \"#ed7953\"], [0.7777777777777778, \"#fb9f3a\"], [0.8888888888888888, \"#fdca26\"], [1.0, \"#f0f921\"]]}, \"colorway\": [\"#636efa\", \"#EF553B\", \"#00cc96\", \"#ab63fa\", \"#FFA15A\", \"#19d3f3\", \"#FF6692\", \"#B6E880\", \"#FF97FF\", \"#FECB52\"], \"font\": {\"color\": \"#2a3f5f\"}, \"geo\": {\"bgcolor\": \"white\", \"lakecolor\": \"white\", \"landcolor\": \"#E5ECF6\", \"showlakes\": true, \"showland\": true, \"subunitcolor\": \"white\"}, \"hoverlabel\": {\"align\": \"left\"}, \"hovermode\": \"closest\", \"mapbox\": {\"style\": \"light\"}, \"paper_bgcolor\": \"white\", \"plot_bgcolor\": \"#E5ECF6\", \"polar\": {\"angularaxis\": {\"gridcolor\": \"white\", \"linecolor\": \"white\", \"ticks\": \"\"}, \"bgcolor\": \"#E5ECF6\", \"radialaxis\": {\"gridcolor\": \"white\", \"linecolor\": \"white\", \"ticks\": \"\"}}, \"scene\": {\"xaxis\": {\"backgroundcolor\": \"#E5ECF6\", \"gridcolor\": \"white\", \"gridwidth\": 2, \"linecolor\": \"white\", \"showbackground\": true, \"ticks\": \"\", \"zerolinecolor\": \"white\"}, \"yaxis\": {\"backgroundcolor\": \"#E5ECF6\", \"gridcolor\": \"white\", \"gridwidth\": 2, \"linecolor\": \"white\", \"showbackground\": true, \"ticks\": \"\", \"zerolinecolor\": \"white\"}, \"zaxis\": {\"backgroundcolor\": \"#E5ECF6\", \"gridcolor\": \"white\", \"gridwidth\": 2, \"linecolor\": \"white\", \"showbackground\": true, \"ticks\": \"\", \"zerolinecolor\": \"white\"}}, \"shapedefaults\": {\"line\": {\"color\": \"#2a3f5f\"}}, \"ternary\": {\"aaxis\": {\"gridcolor\": \"white\", \"linecolor\": \"white\", \"ticks\": \"\"}, \"baxis\": {\"gridcolor\": \"white\", \"linecolor\": \"white\", \"ticks\": \"\"}, \"bgcolor\": \"#E5ECF6\", \"caxis\": {\"gridcolor\": \"white\", \"linecolor\": \"white\", \"ticks\": \"\"}}, \"title\": {\"x\": 0.05}, \"xaxis\": {\"automargin\": true, \"gridcolor\": \"white\", \"linecolor\": \"white\", \"ticks\": \"\", \"title\": {\"standoff\": 15}, \"zerolinecolor\": \"white\", \"zerolinewidth\": 2}, \"yaxis\": {\"automargin\": true, \"gridcolor\": \"white\", \"linecolor\": \"white\", \"ticks\": \"\", \"title\": {\"standoff\": 15}, \"zerolinecolor\": \"white\", \"zerolinewidth\": 2}}}},\n",
       "                        {\"responsive\": true}\n",
       "                    ).then(function(){\n",
       "                            \n",
       "var gd = document.getElementById('6087aa05-cdfd-4cef-90db-f9e7857fd1f9');\n",
       "var x = new MutationObserver(function (mutations, observer) {{\n",
       "        var display = window.getComputedStyle(gd).display;\n",
       "        if (!display || display === 'none') {{\n",
       "            console.log([gd, 'removed!']);\n",
       "            Plotly.purge(gd);\n",
       "            observer.disconnect();\n",
       "        }}\n",
       "}});\n",
       "\n",
       "// Listen for the removal of the full notebook cells\n",
       "var notebookContainer = gd.closest('#notebook-container');\n",
       "if (notebookContainer) {{\n",
       "    x.observe(notebookContainer, {childList: true});\n",
       "}}\n",
       "\n",
       "// Listen for the clearing of the current output cell\n",
       "var outputEl = gd.closest('.output');\n",
       "if (outputEl) {{\n",
       "    x.observe(outputEl, {childList: true});\n",
       "}}\n",
       "\n",
       "                        })\n",
       "                };\n",
       "                });\n",
       "            </script>\n",
       "        </div>"
      ]
     },
     "metadata": {},
     "output_type": "display_data"
    }
   ],
   "source": [
    "# Now we go through each dictionary in our list and select only the data we want,\n",
    "# and add it to a list\n",
    "\n",
    "populations = []\n",
    "\n",
    "for each_city in cities:\n",
    "    city_pop = each_city['2018estimate']\n",
    "    populations.append(city_pop)\n",
    "    \n",
    "city_names = []\n",
    "\n",
    "for each_city in cities:\n",
    "    city_name = each_city['City']\n",
    "    city_names.append(city_name)\n",
    "    \n",
    "# and now plot\n",
    "import plotly.graph_objects as go\n",
    "\n",
    "scatter = go.Scatter(y = populations, hovertext = city_names, mode = 'markers')\n",
    "go.Figure(scatter)"
   ]
  },
  {
   "cell_type": "code",
   "execution_count": null,
   "metadata": {},
   "outputs": [],
   "source": []
  }
 ],
 "metadata": {
  "kernelspec": {
   "display_name": "Python 3",
   "language": "python",
   "name": "python3"
  },
  "language_info": {
   "codemirror_mode": {
    "name": "ipython",
    "version": 3
   },
   "file_extension": ".py",
   "mimetype": "text/x-python",
   "name": "python",
   "nbconvert_exporter": "python",
   "pygments_lexer": "ipython3",
   "version": "3.7.3"
  }
 },
 "nbformat": 4,
 "nbformat_minor": 2
}
