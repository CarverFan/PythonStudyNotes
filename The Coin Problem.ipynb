{
 "cells": [
  {
   "cell_type": "markdown",
   "metadata": {},
   "source": [
    "### The Coin Problem"
   ]
  },
  {
   "cell_type": "code",
   "execution_count": 106,
   "metadata": {},
   "outputs": [],
   "source": [
    "def coins(num_of_coins):\n",
    "    # dictionary initialized with zero's which we will consider Heads, Tails will be 1\n",
    "    d = {k:0 for (k) in range(1, num_of_coins + 1)}\n",
    "    x = 0\n",
    "    cnt = 2\n",
    "    for i in range(1, len(d)):\n",
    "        #print(f'Outer loop: {i}, {cnt}')\n",
    "        for k,v in d.items():\n",
    "            #print(f'{k} % {cnt}, v = {v}')\n",
    "            if k % cnt == 0:\n",
    "                # G's way: set the value to 1 minus whatever the value currently is.\n",
    "                # e.g. if it is 1, 1 - 1 = 0, if 0: 1 - 0 = 1 (genius!)\n",
    "                d[k] = 1 - d[k]\n",
    "#                 if v == 0:\n",
    "#                     x = 1\n",
    "#                     d[k] = x\n",
    "#                 else:\n",
    "#                     x = 0\n",
    "#                     d[k] = x\n",
    "        cnt += 1\n",
    "        #print(d)\n",
    "        #print()\n",
    "        \n",
    "        dout = {k:v for (k,v) in d.items() if v == 0}\n",
    "    return dout\n",
    "          \n",
    "  \n",
    "\n",
    "    \n",
    "    "
   ]
  },
  {
   "cell_type": "code",
   "execution_count": 114,
   "metadata": {},
   "outputs": [],
   "source": [
    "dout = coins(100)\n"
   ]
  },
  {
   "cell_type": "code",
   "execution_count": 115,
   "metadata": {},
   "outputs": [
    {
     "data": {
      "text/plain": [
       "{1: 0, 4: 0, 9: 0, 16: 0, 25: 0, 36: 0, 49: 0, 64: 0, 81: 0, 100: 0}"
      ]
     },
     "execution_count": 115,
     "metadata": {},
     "output_type": "execute_result"
    }
   ],
   "source": [
    "dout"
   ]
  },
  {
   "cell_type": "code",
   "execution_count": 117,
   "metadata": {},
   "outputs": [
    {
     "name": "stdout",
     "output_type": "stream",
     "text": [
      "[1, 4, 9, 16, 25, 36, 49, 64, 81, 100]\n"
     ]
    }
   ],
   "source": [
    "L = []\n",
    "for k,v in dout.items():\n",
    "    L.append(k)\n",
    "print(L)"
   ]
  },
  {
   "cell_type": "code",
   "execution_count": 118,
   "metadata": {},
   "outputs": [],
   "source": [
    "import math\n",
    "L2 = [math.sqrt(num) for num in L]"
   ]
  },
  {
   "cell_type": "code",
   "execution_count": 119,
   "metadata": {},
   "outputs": [
    {
     "data": {
      "text/plain": [
       "[1.0, 2.0, 3.0, 4.0, 5.0, 6.0, 7.0, 8.0, 9.0, 10.0]"
      ]
     },
     "execution_count": 119,
     "metadata": {},
     "output_type": "execute_result"
    }
   ],
   "source": [
    "L2"
   ]
  },
  {
   "cell_type": "code",
   "execution_count": null,
   "metadata": {},
   "outputs": [],
   "source": []
  }
 ],
 "metadata": {
  "kernelspec": {
   "display_name": "Python 3",
   "language": "python",
   "name": "python3"
  },
  "language_info": {
   "codemirror_mode": {
    "name": "ipython",
    "version": 3
   },
   "file_extension": ".py",
   "mimetype": "text/x-python",
   "name": "python",
   "nbconvert_exporter": "python",
   "pygments_lexer": "ipython3",
   "version": "3.7.3"
  }
 },
 "nbformat": 4,
 "nbformat_minor": 2
}
