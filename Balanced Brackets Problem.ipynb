{
 "cells": [
  {
   "cell_type": "markdown",
   "metadata": {},
   "source": [
    "### Balanced Brackets Problem"
   ]
  },
  {
   "cell_type": "markdown",
   "metadata": {},
   "source": [
    "##### Notes:\n",
    "Examples:\n",
    "    [({[}]) = False\n",
    "    {[()]} = True\n",
    "    \n",
    "Script needs to know what a pair looks like, i.e. [ + ] = True\n",
    "\n",
    "Length of string input\n",
    "\n",
    "If length of string is an uneven number of characters, it's unbalanced\n",
    "\n",
    "Middle of string - if we start in the middle and work our way out checking each pair?\n",
    "\n",
    "How to check for a valid pair?\n",
    "\n",
    "Fold the list in half and compare? Split and zip?"
   ]
  },
  {
   "cell_type": "code",
   "execution_count": 58,
   "metadata": {},
   "outputs": [],
   "source": [
    "import functools"
   ]
  },
  {
   "cell_type": "code",
   "execution_count": 72,
   "metadata": {},
   "outputs": [],
   "source": [
    "lst1 = ['(','{','[','}',']',')']\n",
    "lst2 = ['{','[','(',')',']','}']\n",
    "lst3 = ['[','(','{','[','(',')',']','}',')',']']\n",
    "lst4 = ['[','(','{','{','(',')',']','}',')',']']\n",
    "matching_pairs = [('(', ')'), ('[', ']'), ('{', '}')]"
   ]
  },
  {
   "cell_type": "code",
   "execution_count": 73,
   "metadata": {},
   "outputs": [],
   "source": [
    "def balanced_brackets(L):\n",
    "    len_L = len(L)\n",
    "    if len_L%2 != 0:\n",
    "        print(f'List length is not an even number, unbalanced')\n",
    "        return False\n",
    "    # find middle of list and split, then reverse the latter half\n",
    "    half = len_L // 2\n",
    "    first = L[0:half]\n",
    "    second = L[-1:(half-1):-1]\n",
    "    print(f'First half: {first}')\n",
    "    print(f'Second half: {second}')\n",
    "    output = list(zip(first, second))\n",
    "    output = sorted(list(dict.fromkeys(output)))\n",
    "    print(f'Sorted and de-duplicated: {output})')\n",
    "    if functools.reduce(lambda i, j : i and j, map(lambda m, k: m == k, output, matching_pairs), True):\n",
    "        return True\n",
    "    else:\n",
    "        return False"
   ]
  },
  {
   "cell_type": "code",
   "execution_count": 74,
   "metadata": {},
   "outputs": [
    {
     "name": "stdout",
     "output_type": "stream",
     "text": [
      "First half: ['(', '{', '[']\n",
      "Second half: [')', ']', '}']\n",
      "Sorted and de-duplicated: [('(', ')'), ('[', '}'), ('{', ']')])\n"
     ]
    },
    {
     "data": {
      "text/plain": [
       "False"
      ]
     },
     "execution_count": 74,
     "metadata": {},
     "output_type": "execute_result"
    }
   ],
   "source": [
    "balanced_brackets(lst1)"
   ]
  },
  {
   "cell_type": "code",
   "execution_count": 75,
   "metadata": {},
   "outputs": [
    {
     "name": "stdout",
     "output_type": "stream",
     "text": [
      "First half: ['{', '[', '(']\n",
      "Second half: ['}', ']', ')']\n",
      "Sorted and de-duplicated: [('(', ')'), ('[', ']'), ('{', '}')])\n"
     ]
    },
    {
     "data": {
      "text/plain": [
       "True"
      ]
     },
     "execution_count": 75,
     "metadata": {},
     "output_type": "execute_result"
    }
   ],
   "source": [
    "balanced_brackets(lst2)"
   ]
  },
  {
   "cell_type": "code",
   "execution_count": 76,
   "metadata": {},
   "outputs": [
    {
     "name": "stdout",
     "output_type": "stream",
     "text": [
      "First half: ['[', '(', '{', '[', '(']\n",
      "Second half: [']', ')', '}', ']', ')']\n",
      "Sorted and de-duplicated: [('(', ')'), ('[', ']'), ('{', '}')])\n"
     ]
    },
    {
     "data": {
      "text/plain": [
       "True"
      ]
     },
     "execution_count": 76,
     "metadata": {},
     "output_type": "execute_result"
    }
   ],
   "source": [
    "balanced_brackets(lst3)"
   ]
  },
  {
   "cell_type": "code",
   "execution_count": 77,
   "metadata": {},
   "outputs": [
    {
     "name": "stdout",
     "output_type": "stream",
     "text": [
      "First half: ['[', '(', '{', '{', '(']\n",
      "Second half: [']', ')', '}', ']', ')']\n",
      "Sorted and de-duplicated: [('(', ')'), ('[', ']'), ('{', ']'), ('{', '}')])\n"
     ]
    },
    {
     "data": {
      "text/plain": [
       "False"
      ]
     },
     "execution_count": 77,
     "metadata": {},
     "output_type": "execute_result"
    }
   ],
   "source": [
    "balanced_brackets(lst4)"
   ]
  },
  {
   "cell_type": "code",
   "execution_count": null,
   "metadata": {},
   "outputs": [],
   "source": []
  }
 ],
 "metadata": {
  "kernelspec": {
   "display_name": "Python 3",
   "language": "python",
   "name": "python3"
  },
  "language_info": {
   "codemirror_mode": {
    "name": "ipython",
    "version": 3
   },
   "file_extension": ".py",
   "mimetype": "text/x-python",
   "name": "python",
   "nbconvert_exporter": "python",
   "pygments_lexer": "ipython3",
   "version": "3.7.3"
  }
 },
 "nbformat": 4,
 "nbformat_minor": 2
}
